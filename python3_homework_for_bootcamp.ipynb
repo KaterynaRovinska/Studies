{
  "nbformat": 4,
  "nbformat_minor": 0,
  "metadata": {
    "colab": {
      "provenance": [],
      "authorship_tag": "ABX9TyOYAbdd+egJ07auFJhlgyk9",
      "include_colab_link": true
    },
    "kernelspec": {
      "name": "python3",
      "display_name": "Python 3"
    },
    "language_info": {
      "name": "python"
    }
  },
  "cells": [
    {
      "cell_type": "markdown",
      "metadata": {
        "id": "view-in-github",
        "colab_type": "text"
      },
      "source": [
        "<a href=\"https://colab.research.google.com/github/KaterynaRovinska/Studies/blob/main/python3_homework_for_bootcamp.ipynb\" target=\"_parent\"><img src=\"https://colab.research.google.com/assets/colab-badge.svg\" alt=\"Open In Colab\"/></a>"
      ]
    },
    {
      "cell_type": "code",
      "execution_count": 26,
      "metadata": {
        "colab": {
          "base_uri": "https://localhost:8080/"
        },
        "id": "nZVXHcw1NV_4",
        "outputId": "c3bafced-a42c-4897-9218-a6f65a0e3489"
      },
      "outputs": [
        {
          "output_type": "stream",
          "name": "stdout",
          "text": [
            "Kateryna Rovinska\n",
            "Kateryna\n",
            "Ukrainian\n",
            "flight attendant\n",
            "<class 'int'>\n",
            "<class 'int'>\n",
            "True\n",
            "True\n",
            "23.0\n",
            "23\n",
            "Enter your date of birth: 12 Sep 1992\n",
            "Year: 1992\n"
          ]
        }
      ],
      "source": [
        "# print name\n",
        "print (\"Kateryna Rovinska\")\n",
        "\n",
        "# Print your name, your nationality and your job in 3 different lines with one single print command\n",
        "var1 = 'Kateryna'\n",
        "var2 = 'Ukrainian'\n",
        "var3 = 'flight attendant'\n",
        "print (var1, var2, var3, sep='\\n')\n",
        "\n",
        "# Create an integer variable taking the value 4\n",
        "var4 = 4\n",
        "print (type(int('4')))\n",
        "\n",
        "# Create other integer variable taking the value 1\n",
        "var5 = 1\n",
        "print (type(int ('1')))\n",
        "\n",
        "# Transform both variables into boolean variables. What happens?\n",
        "var4 = bool(4)\n",
        "print (result)\n",
        "\n",
        "var5 = bool(1)\n",
        "print (result)\n",
        "\n",
        "# Transform this variable \"23\" into numerical variable.\n",
        "var6 = 23\n",
        "print (float('23'))\n",
        "print (int(\"23\"))\n",
        "\n",
        "# Ask the user their age in the format 1st Jan, 2019 (check the command input for this). Using this info, show on the screen their year of birth \n",
        "from datetime import datetime\n",
        "\n",
        "birthday = input(\"Enter your date of birth: \")\n",
        "\n",
        "bday = datetime.strptime(birthday, '%d %b %Y')\n",
        "\n",
        "print(f'Year: {bday.year}')\n",
        "\n",
        "\n"
      ]
    }
  ]
}